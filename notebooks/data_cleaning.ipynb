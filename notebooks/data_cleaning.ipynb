{
 "cells": [
  {
   "cell_type": "markdown",
   "id": "76640524",
   "metadata": {},
   "source": [
    "# Data Preprocessing"
   ]
  },
  {
   "cell_type": "code",
   "execution_count": 1,
   "id": "e6610123-d6a2-496c-9d00-17a0f1499ed1",
   "metadata": {},
   "outputs": [
    {
     "name": "stdout",
     "output_type": "stream",
     "text": [
      "Requirement already satisfied: azure-storage-blob in /Users/sarthakchandajkar/Desktop/Projects/Data Engineering/Telco Customer Churn/venv/lib/python3.12/site-packages (12.24.0)\n",
      "Requirement already satisfied: azure-core>=1.30.0 in /Users/sarthakchandajkar/Desktop/Projects/Data Engineering/Telco Customer Churn/venv/lib/python3.12/site-packages (from azure-storage-blob) (1.32.0)\n",
      "Requirement already satisfied: cryptography>=2.1.4 in /Users/sarthakchandajkar/Desktop/Projects/Data Engineering/Telco Customer Churn/venv/lib/python3.12/site-packages (from azure-storage-blob) (43.0.3)\n",
      "Requirement already satisfied: typing-extensions>=4.6.0 in /Users/sarthakchandajkar/Desktop/Projects/Data Engineering/Telco Customer Churn/venv/lib/python3.12/site-packages (from azure-storage-blob) (4.12.2)\n",
      "Requirement already satisfied: isodate>=0.6.1 in /Users/sarthakchandajkar/Desktop/Projects/Data Engineering/Telco Customer Churn/venv/lib/python3.12/site-packages (from azure-storage-blob) (0.7.2)\n",
      "Requirement already satisfied: requests>=2.21.0 in /Users/sarthakchandajkar/Desktop/Projects/Data Engineering/Telco Customer Churn/venv/lib/python3.12/site-packages (from azure-core>=1.30.0->azure-storage-blob) (2.32.3)\n",
      "Requirement already satisfied: six>=1.11.0 in /Users/sarthakchandajkar/Desktop/Projects/Data Engineering/Telco Customer Churn/venv/lib/python3.12/site-packages (from azure-core>=1.30.0->azure-storage-blob) (1.16.0)\n",
      "Requirement already satisfied: cffi>=1.12 in /Users/sarthakchandajkar/Desktop/Projects/Data Engineering/Telco Customer Churn/venv/lib/python3.12/site-packages (from cryptography>=2.1.4->azure-storage-blob) (1.17.1)\n",
      "Requirement already satisfied: pycparser in /Users/sarthakchandajkar/Desktop/Projects/Data Engineering/Telco Customer Churn/venv/lib/python3.12/site-packages (from cffi>=1.12->cryptography>=2.1.4->azure-storage-blob) (2.22)\n",
      "Requirement already satisfied: charset-normalizer<4,>=2 in /Users/sarthakchandajkar/Desktop/Projects/Data Engineering/Telco Customer Churn/venv/lib/python3.12/site-packages (from requests>=2.21.0->azure-core>=1.30.0->azure-storage-blob) (3.4.0)\n",
      "Requirement already satisfied: idna<4,>=2.5 in /Users/sarthakchandajkar/Desktop/Projects/Data Engineering/Telco Customer Churn/venv/lib/python3.12/site-packages (from requests>=2.21.0->azure-core>=1.30.0->azure-storage-blob) (3.10)\n",
      "Requirement already satisfied: urllib3<3,>=1.21.1 in /Users/sarthakchandajkar/Desktop/Projects/Data Engineering/Telco Customer Churn/venv/lib/python3.12/site-packages (from requests>=2.21.0->azure-core>=1.30.0->azure-storage-blob) (2.2.3)\n",
      "Requirement already satisfied: certifi>=2017.4.17 in /Users/sarthakchandajkar/Desktop/Projects/Data Engineering/Telco Customer Churn/venv/lib/python3.12/site-packages (from requests>=2.21.0->azure-core>=1.30.0->azure-storage-blob) (2024.8.30)\n",
      "Note: you may need to restart the kernel to use updated packages.\n",
      "Requirement already satisfied: pandas in /Users/sarthakchandajkar/Desktop/Projects/Data Engineering/Telco Customer Churn/venv/lib/python3.12/site-packages (2.2.3)\n",
      "Requirement already satisfied: numpy>=1.26.0 in /Users/sarthakchandajkar/Desktop/Projects/Data Engineering/Telco Customer Churn/venv/lib/python3.12/site-packages (from pandas) (2.1.3)\n",
      "Requirement already satisfied: python-dateutil>=2.8.2 in /Users/sarthakchandajkar/Desktop/Projects/Data Engineering/Telco Customer Churn/venv/lib/python3.12/site-packages (from pandas) (2.9.0.post0)\n",
      "Requirement already satisfied: pytz>=2020.1 in /Users/sarthakchandajkar/Desktop/Projects/Data Engineering/Telco Customer Churn/venv/lib/python3.12/site-packages (from pandas) (2024.2)\n",
      "Requirement already satisfied: tzdata>=2022.7 in /Users/sarthakchandajkar/Desktop/Projects/Data Engineering/Telco Customer Churn/venv/lib/python3.12/site-packages (from pandas) (2024.2)\n",
      "Requirement already satisfied: six>=1.5 in /Users/sarthakchandajkar/Desktop/Projects/Data Engineering/Telco Customer Churn/venv/lib/python3.12/site-packages (from python-dateutil>=2.8.2->pandas) (1.16.0)\n",
      "Note: you may need to restart the kernel to use updated packages.\n",
      "Requirement already satisfied: scikit-learn in /Users/sarthakchandajkar/Desktop/Projects/Data Engineering/Telco Customer Churn/venv/lib/python3.12/site-packages (1.5.2)\n",
      "Requirement already satisfied: numpy>=1.19.5 in /Users/sarthakchandajkar/Desktop/Projects/Data Engineering/Telco Customer Churn/venv/lib/python3.12/site-packages (from scikit-learn) (2.1.3)\n",
      "Requirement already satisfied: scipy>=1.6.0 in /Users/sarthakchandajkar/Desktop/Projects/Data Engineering/Telco Customer Churn/venv/lib/python3.12/site-packages (from scikit-learn) (1.14.1)\n",
      "Requirement already satisfied: joblib>=1.2.0 in /Users/sarthakchandajkar/Desktop/Projects/Data Engineering/Telco Customer Churn/venv/lib/python3.12/site-packages (from scikit-learn) (1.4.2)\n",
      "Requirement already satisfied: threadpoolctl>=3.1.0 in /Users/sarthakchandajkar/Desktop/Projects/Data Engineering/Telco Customer Churn/venv/lib/python3.12/site-packages (from scikit-learn) (3.5.0)\n",
      "Note: you may need to restart the kernel to use updated packages.\n"
     ]
    }
   ],
   "source": [
    "%pip install azure-storage-blob\n",
    "%pip install pandas\n",
    "%pip install scikit-learn"
   ]
  },
  {
   "cell_type": "code",
   "execution_count": 2,
   "id": "3b5f5cdb-caba-478c-b45f-85bc4c546299",
   "metadata": {},
   "outputs": [],
   "source": [
    "from azure.storage.blob import BlobServiceClient\n",
    "import pandas as pd\n",
    "from io import StringIO\n",
    "from sklearn.preprocessing import StandardScaler"
   ]
  },
  {
   "cell_type": "markdown",
   "id": "a8871378",
   "metadata": {},
   "source": [
    "# Extracting data from Azure Blob Storage"
   ]
  },
  {
   "cell_type": "code",
   "execution_count": 3,
   "id": "5b126f22-d909-405b-9a5e-700cfa632b33",
   "metadata": {},
   "outputs": [],
   "source": [
    "connection_string = \"DefaultEndpointsProtocol=https;AccountName=telcodataset;AccountKey=8ZEMJBc+ZvMau0c/fOB82xUUQuK6Zy70bDbdV6McaZlub8yx6Na5Lm/PljqgfF84tR/kAKSXE/GO+AStiQUIEQ==;EndpointSuffix=core.windows.net\"\n",
    "container_name = \"telco-container\"\n",
    "blob_name = \"Telco-Customer-Churn-Dataset.csv\""
   ]
  },
  {
   "cell_type": "code",
   "execution_count": 4,
   "id": "3d458789-6ff6-4b98-a85d-e651332a0a74",
   "metadata": {},
   "outputs": [],
   "source": [
    "blob_service_client = BlobServiceClient.from_connection_string(connection_string)\n",
    "blob_client = blob_service_client.get_blob_client(container=container_name, blob=blob_name)"
   ]
  },
  {
   "cell_type": "code",
   "execution_count": 6,
   "id": "a69988f6-3a8b-4f98-9367-28ba5f1ae6de",
   "metadata": {},
   "outputs": [
    {
     "ename": "HttpResponseError",
     "evalue": "The specified account is disabled.\nRequestId:55de41c5-801e-007d-7e1e-5aede4000000\nTime:2024-12-29T18:19:14.6509884Z\nErrorCode:AccountIsDisabled\nContent: <?xml version=\"1.0\" encoding=\"utf-8\"?><Error><Code>AccountIsDisabled</Code><Message>The specified account is disabled.\nRequestId:55de41c5-801e-007d-7e1e-5aede4000000\nTime:2024-12-29T18:19:14.6509884Z</Message></Error>",
     "output_type": "error",
     "traceback": [
      "\u001b[0;31m---------------------------------------------------------------------------\u001b[0m",
      "\u001b[0;31mHttpResponseError\u001b[0m                         Traceback (most recent call last)",
      "Cell \u001b[0;32mIn[6], line 1\u001b[0m\n\u001b[0;32m----> 1\u001b[0m download_stream \u001b[38;5;241m=\u001b[39m \u001b[43mblob_client\u001b[49m\u001b[38;5;241;43m.\u001b[39;49m\u001b[43mdownload_blob\u001b[49m\u001b[43m(\u001b[49m\u001b[43m)\u001b[49m\n\u001b[1;32m      2\u001b[0m csv_data \u001b[38;5;241m=\u001b[39m download_stream\u001b[38;5;241m.\u001b[39mreadall()\n",
      "File \u001b[0;32m~/Desktop/Projects/Data Engineering/Telco Customer Churn/venv/lib/python3.12/site-packages/azure/core/tracing/decorator.py:105\u001b[0m, in \u001b[0;36mdistributed_trace.<locals>.decorator.<locals>.wrapper_use_tracer\u001b[0;34m(*args, **kwargs)\u001b[0m\n\u001b[1;32m    103\u001b[0m span_impl_type \u001b[38;5;241m=\u001b[39m settings\u001b[38;5;241m.\u001b[39mtracing_implementation()\n\u001b[1;32m    104\u001b[0m \u001b[38;5;28;01mif\u001b[39;00m span_impl_type \u001b[38;5;129;01mis\u001b[39;00m \u001b[38;5;28;01mNone\u001b[39;00m:\n\u001b[0;32m--> 105\u001b[0m     \u001b[38;5;28;01mreturn\u001b[39;00m \u001b[43mfunc\u001b[49m\u001b[43m(\u001b[49m\u001b[38;5;241;43m*\u001b[39;49m\u001b[43margs\u001b[49m\u001b[43m,\u001b[49m\u001b[43m \u001b[49m\u001b[38;5;241;43m*\u001b[39;49m\u001b[38;5;241;43m*\u001b[39;49m\u001b[43mkwargs\u001b[49m\u001b[43m)\u001b[49m\n\u001b[1;32m    107\u001b[0m \u001b[38;5;66;03m# Merge span is parameter is set, but only if no explicit parent are passed\u001b[39;00m\n\u001b[1;32m    108\u001b[0m \u001b[38;5;28;01mif\u001b[39;00m merge_span \u001b[38;5;129;01mand\u001b[39;00m \u001b[38;5;129;01mnot\u001b[39;00m passed_in_parent:\n",
      "File \u001b[0;32m~/Desktop/Projects/Data Engineering/Telco Customer Churn/venv/lib/python3.12/site-packages/azure/storage/blob/_blob_client.py:753\u001b[0m, in \u001b[0;36mBlobClient.download_blob\u001b[0;34m(self, offset, length, encoding, **kwargs)\u001b[0m\n\u001b[1;32m    735\u001b[0m     \u001b[38;5;28;01mraise\u001b[39;00m \u001b[38;5;167;01mValueError\u001b[39;00m(\u001b[38;5;124m\"\u001b[39m\u001b[38;5;124mCustomer provided encryption key must be used over HTTPS.\u001b[39m\u001b[38;5;124m\"\u001b[39m)\n\u001b[1;32m    736\u001b[0m options \u001b[38;5;241m=\u001b[39m _download_blob_options(\n\u001b[1;32m    737\u001b[0m     blob_name\u001b[38;5;241m=\u001b[39m\u001b[38;5;28mself\u001b[39m\u001b[38;5;241m.\u001b[39mblob_name,\n\u001b[1;32m    738\u001b[0m     container_name\u001b[38;5;241m=\u001b[39m\u001b[38;5;28mself\u001b[39m\u001b[38;5;241m.\u001b[39mcontainer_name,\n\u001b[0;32m   (...)\u001b[0m\n\u001b[1;32m    751\u001b[0m     client\u001b[38;5;241m=\u001b[39m\u001b[38;5;28mself\u001b[39m\u001b[38;5;241m.\u001b[39m_client,\n\u001b[1;32m    752\u001b[0m     \u001b[38;5;241m*\u001b[39m\u001b[38;5;241m*\u001b[39mkwargs)\n\u001b[0;32m--> 753\u001b[0m \u001b[38;5;28;01mreturn\u001b[39;00m \u001b[43mStorageStreamDownloader\u001b[49m\u001b[43m(\u001b[49m\u001b[38;5;241;43m*\u001b[39;49m\u001b[38;5;241;43m*\u001b[39;49m\u001b[43moptions\u001b[49m\u001b[43m)\u001b[49m\n",
      "File \u001b[0;32m~/Desktop/Projects/Data Engineering/Telco Customer Churn/venv/lib/python3.12/site-packages/azure/storage/blob/_download.py:403\u001b[0m, in \u001b[0;36mStorageStreamDownloader.__init__\u001b[0;34m(self, clients, config, start_range, end_range, validate_content, encryption_options, max_concurrency, name, container, encoding, download_cls, **kwargs)\u001b[0m\n\u001b[1;32m    393\u001b[0m     initial_request_end \u001b[38;5;241m=\u001b[39m initial_request_start \u001b[38;5;241m+\u001b[39m first_get_size \u001b[38;5;241m-\u001b[39m \u001b[38;5;241m1\u001b[39m\n\u001b[1;32m    395\u001b[0m \u001b[38;5;28mself\u001b[39m\u001b[38;5;241m.\u001b[39m_initial_range, \u001b[38;5;28mself\u001b[39m\u001b[38;5;241m.\u001b[39m_initial_offset \u001b[38;5;241m=\u001b[39m process_range_and_offset(\n\u001b[1;32m    396\u001b[0m     initial_request_start,\n\u001b[1;32m    397\u001b[0m     initial_request_end,\n\u001b[0;32m   (...)\u001b[0m\n\u001b[1;32m    400\u001b[0m     \u001b[38;5;28mself\u001b[39m\u001b[38;5;241m.\u001b[39m_encryption_data\n\u001b[1;32m    401\u001b[0m )\n\u001b[0;32m--> 403\u001b[0m \u001b[38;5;28mself\u001b[39m\u001b[38;5;241m.\u001b[39m_response \u001b[38;5;241m=\u001b[39m \u001b[38;5;28;43mself\u001b[39;49m\u001b[38;5;241;43m.\u001b[39;49m\u001b[43m_initial_request\u001b[49m\u001b[43m(\u001b[49m\u001b[43m)\u001b[49m\n\u001b[1;32m    404\u001b[0m \u001b[38;5;28mself\u001b[39m\u001b[38;5;241m.\u001b[39mproperties \u001b[38;5;241m=\u001b[39m cast(\u001b[38;5;124m\"\u001b[39m\u001b[38;5;124mBlobProperties\u001b[39m\u001b[38;5;124m\"\u001b[39m, \u001b[38;5;28mself\u001b[39m\u001b[38;5;241m.\u001b[39m_response\u001b[38;5;241m.\u001b[39mproperties)\n\u001b[1;32m    405\u001b[0m \u001b[38;5;28mself\u001b[39m\u001b[38;5;241m.\u001b[39mproperties\u001b[38;5;241m.\u001b[39mname \u001b[38;5;241m=\u001b[39m \u001b[38;5;28mself\u001b[39m\u001b[38;5;241m.\u001b[39mname\n",
      "File \u001b[0;32m~/Desktop/Projects/Data Engineering/Telco Customer Churn/venv/lib/python3.12/site-packages/azure/storage/blob/_download.py:504\u001b[0m, in \u001b[0;36mStorageStreamDownloader._initial_request\u001b[0;34m(self)\u001b[0m\n\u001b[1;32m    502\u001b[0m         \u001b[38;5;28mself\u001b[39m\u001b[38;5;241m.\u001b[39m_file_size \u001b[38;5;241m=\u001b[39m \u001b[38;5;241m0\u001b[39m\n\u001b[1;32m    503\u001b[0m     \u001b[38;5;28;01melse\u001b[39;00m:\n\u001b[0;32m--> 504\u001b[0m         \u001b[43mprocess_storage_error\u001b[49m\u001b[43m(\u001b[49m\u001b[43merror\u001b[49m\u001b[43m)\u001b[49m\n\u001b[1;32m    506\u001b[0m \u001b[38;5;28;01mtry\u001b[39;00m:\n\u001b[1;32m    507\u001b[0m     \u001b[38;5;28;01mif\u001b[39;00m \u001b[38;5;28mself\u001b[39m\u001b[38;5;241m.\u001b[39msize \u001b[38;5;241m==\u001b[39m \u001b[38;5;241m0\u001b[39m:\n",
      "File \u001b[0;32m~/Desktop/Projects/Data Engineering/Telco Customer Churn/venv/lib/python3.12/site-packages/azure/storage/blob/_shared/response_handlers.py:186\u001b[0m, in \u001b[0;36mprocess_storage_error\u001b[0;34m(storage_error)\u001b[0m\n\u001b[1;32m    183\u001b[0m error\u001b[38;5;241m.\u001b[39margs \u001b[38;5;241m=\u001b[39m (error\u001b[38;5;241m.\u001b[39mmessage,)\n\u001b[1;32m    184\u001b[0m \u001b[38;5;28;01mtry\u001b[39;00m:\n\u001b[1;32m    185\u001b[0m     \u001b[38;5;66;03m# `from None` prevents us from double printing the exception (suppresses generated layer error context)\u001b[39;00m\n\u001b[0;32m--> 186\u001b[0m     \u001b[43mexec\u001b[49m\u001b[43m(\u001b[49m\u001b[38;5;124;43m\"\u001b[39;49m\u001b[38;5;124;43mraise error from None\u001b[39;49m\u001b[38;5;124;43m\"\u001b[39;49m\u001b[43m)\u001b[49m   \u001b[38;5;66;03m# pylint: disable=exec-used # nosec\u001b[39;00m\n\u001b[1;32m    187\u001b[0m \u001b[38;5;28;01mexcept\u001b[39;00m \u001b[38;5;167;01mSyntaxError\u001b[39;00m \u001b[38;5;28;01mas\u001b[39;00m exc:\n\u001b[1;32m    188\u001b[0m     \u001b[38;5;28;01mraise\u001b[39;00m error \u001b[38;5;28;01mfrom\u001b[39;00m \u001b[38;5;21;01mexc\u001b[39;00m\n",
      "File \u001b[0;32m<string>:1\u001b[0m\n",
      "\u001b[0;31mHttpResponseError\u001b[0m: The specified account is disabled.\nRequestId:55de41c5-801e-007d-7e1e-5aede4000000\nTime:2024-12-29T18:19:14.6509884Z\nErrorCode:AccountIsDisabled\nContent: <?xml version=\"1.0\" encoding=\"utf-8\"?><Error><Code>AccountIsDisabled</Code><Message>The specified account is disabled.\nRequestId:55de41c5-801e-007d-7e1e-5aede4000000\nTime:2024-12-29T18:19:14.6509884Z</Message></Error>"
     ]
    }
   ],
   "source": [
    "download_stream = blob_client.download_blob()\n",
    "csv_data = download_stream.readall()"
   ]
  },
  {
   "cell_type": "code",
   "execution_count": 7,
   "id": "2eba56c1-10f9-4705-bd1c-ee6cc5262244",
   "metadata": {},
   "outputs": [
    {
     "ename": "NameError",
     "evalue": "name 'csv_data' is not defined",
     "output_type": "error",
     "traceback": [
      "\u001b[0;31m---------------------------------------------------------------------------\u001b[0m",
      "\u001b[0;31mNameError\u001b[0m                                 Traceback (most recent call last)",
      "Cell \u001b[0;32mIn[7], line 1\u001b[0m\n\u001b[0;32m----> 1\u001b[0m data \u001b[38;5;241m=\u001b[39m pd\u001b[38;5;241m.\u001b[39mread_csv(StringIO(\u001b[43mcsv_data\u001b[49m\u001b[38;5;241m.\u001b[39mdecode(\u001b[38;5;124m'\u001b[39m\u001b[38;5;124mutf-8\u001b[39m\u001b[38;5;124m'\u001b[39m)))\n\u001b[1;32m      2\u001b[0m \u001b[38;5;28mprint\u001b[39m(\u001b[38;5;124m\"\u001b[39m\u001b[38;5;124mOriginal data:\u001b[39m\u001b[38;5;124m\"\u001b[39m)\n\u001b[1;32m      3\u001b[0m \u001b[38;5;28mprint\u001b[39m(data\u001b[38;5;241m.\u001b[39mhead())\n",
      "\u001b[0;31mNameError\u001b[0m: name 'csv_data' is not defined"
     ]
    }
   ],
   "source": [
    "data = pd.read_csv(StringIO(csv_data.decode('utf-8')))\n",
    "print(\"Original data:\")\n",
    "print(data.head())"
   ]
  },
  {
   "cell_type": "markdown",
   "id": "dd280d21",
   "metadata": {},
   "source": [
    "Next, we convert 'TotalCharges' to numeric (forcing errors to NaN), fill missing values with the median and assign the result back to the column"
   ]
  },
  {
   "cell_type": "code",
   "execution_count": 47,
   "id": "ed3b8037-34f5-4d03-ac3c-fb5b66b4810d",
   "metadata": {},
   "outputs": [],
   "source": [
    "data['TotalCharges'] = pd.to_numeric(data['TotalCharges'], errors='coerce')\n",
    "data['MonthlyCharges'] = data['MonthlyCharges'].fillna(data['MonthlyCharges'].median())\n",
    "data['tenure'] = data['tenure'].fillna(data['tenure'].median())\n",
    "data['TotalCharges'] = data['TotalCharges'].fillna(data['TotalCharges'].median())"
   ]
  },
  {
   "cell_type": "markdown",
   "id": "0e8c0c16",
   "metadata": {},
   "source": [
    "Then, we impute missing values for categorical columns with mode (most frequent value)."
   ]
  },
  {
   "cell_type": "code",
   "execution_count": 48,
   "id": "b740c5ba-a597-4718-b9db-30f531a8c7d2",
   "metadata": {},
   "outputs": [],
   "source": [
    "data['Churn'] = data['Churn'].fillna(data['Churn'].mode()[0])"
   ]
  },
  {
   "cell_type": "markdown",
   "id": "6dde5cb2",
   "metadata": {},
   "source": [
    "Let's verify if the missing values have been handeled correctly: "
   ]
  },
  {
   "cell_type": "code",
   "execution_count": 49,
   "id": "c18491d7-42a8-49c3-8fd7-e9e164f55577",
   "metadata": {},
   "outputs": [
    {
     "name": "stdout",
     "output_type": "stream",
     "text": [
      "\n",
      "Data after handling missing values:\n",
      "customerID          0\n",
      "gender              0\n",
      "SeniorCitizen       0\n",
      "Partner             0\n",
      "Dependents          0\n",
      "tenure              0\n",
      "PhoneService        0\n",
      "MultipleLines       0\n",
      "InternetService     0\n",
      "OnlineSecurity      0\n",
      "OnlineBackup        0\n",
      "DeviceProtection    0\n",
      "TechSupport         0\n",
      "StreamingTV         0\n",
      "StreamingMovies     0\n",
      "Contract            0\n",
      "PaperlessBilling    0\n",
      "PaymentMethod       0\n",
      "MonthlyCharges      0\n",
      "TotalCharges        0\n",
      "Churn               0\n",
      "dtype: int64\n"
     ]
    }
   ],
   "source": [
    "print(\"\\nData after handling missing values:\")\n",
    "print(data.isnull().sum())"
   ]
  },
  {
   "cell_type": "markdown",
   "id": "db50e921",
   "metadata": {},
   "source": [
    "### Binning Tenure Values\n",
    "\n",
    "In this step, we are categorizing the continuous `tenure` values (which represent the number of months a customer has been with the company) into discrete bins. This process is called **binning** or **discretization**, and it helps in transforming continuous data into categorical data, which can be more useful for certain types of analysis or modeling.\n",
    "\n",
    "The bins are defined as follows:\n",
    "\n",
    "- 0 to 12 months (0-1 Year)\n",
    "- 12 to 24 months (1-2 Years)\n",
    "- 24 to 36 months (2-3 Years)\n",
    "- 36 to 48 months (3-4 Years)\n",
    "- 48 to 60 months (4-5 Years)\n",
    "- 60 to 72 months (5+ Years)\n",
    "\n",
    "We are using the `pd.cut()` function to assign each `tenure` value to one of these bins. The `right=True` argument ensures that the bins are right-inclusive, meaning that a `tenure` value of exactly 12 months would be categorized as \"1-2 Years\". \n",
    "\n",
    "After applying this transformation, we will check for any missing values in the new `TenureGroup` column to ensure that all data has been successfully assigned to one of the bins.\n"
   ]
  },
  {
   "cell_type": "code",
   "execution_count": 50,
   "id": "80115c67-292a-472c-9263-882da7d7d153",
   "metadata": {},
   "outputs": [
    {
     "name": "stdout",
     "output_type": "stream",
     "text": [
      "0\n",
      "   tenure TenureGroup\n",
      "0       1    0-1 Year\n",
      "1      34   2-3 Years\n",
      "2       2    0-1 Year\n",
      "3      45   3-4 Years\n",
      "4       2    0-1 Year\n"
     ]
    }
   ],
   "source": [
    "bins = [-1, 12, 24, 36, 48, 60, 72]  \n",
    "labels = ['0-1 Year', '1-2 Years', '2-3 Years', '3-4 Years', '4-5 Years', '5+ Years']  \n",
    "\n",
    "data['TenureGroup'] = pd.cut(data['tenure'], bins=bins, labels=labels, right=True)  \n",
    "\n",
    "print(data['TenureGroup'].isnull().sum())  # This should return 0 if no NaN values\n",
    "\n",
    "# Verify the grouping\n",
    "print(data[['tenure', 'TenureGroup']].head())\n"
   ]
  },
  {
   "cell_type": "code",
   "execution_count": 51,
   "id": "daa27cfb",
   "metadata": {},
   "outputs": [
    {
     "name": "stdout",
     "output_type": "stream",
     "text": [
      "Empty DataFrame\n",
      "Columns: [customerID, gender, SeniorCitizen, Partner, Dependents, tenure, PhoneService, MultipleLines, InternetService, OnlineSecurity, OnlineBackup, DeviceProtection, TechSupport, StreamingTV, StreamingMovies, Contract, PaperlessBilling, PaymentMethod, MonthlyCharges, TotalCharges, Churn, TenureGroup]\n",
      "Index: []\n",
      "\n",
      "[0 rows x 22 columns]\n"
     ]
    }
   ],
   "source": [
    "print(data[data['TenureGroup'].isnull()])"
   ]
  },
  {
   "cell_type": "code",
   "execution_count": 62,
   "id": "deecc402-113a-41a6-be37-7818335e3679",
   "metadata": {},
   "outputs": [
    {
     "data": {
      "text/plain": [
       "np.int64(72)"
      ]
     },
     "execution_count": 62,
     "metadata": {},
     "output_type": "execute_result"
    }
   ],
   "source": [
    "data['tenure'].max()"
   ]
  },
  {
   "cell_type": "code",
   "execution_count": 53,
   "id": "1aead57d-cc08-42ad-ab37-bb6f8473d66e",
   "metadata": {},
   "outputs": [],
   "source": [
    "# Add calculated column 'TotalCharges' (MonthlyCharges * tenure)\n",
    "data['TotalCharges'] = data['MonthlyCharges'] * data['tenure']"
   ]
  },
  {
   "cell_type": "code",
   "execution_count": 54,
   "id": "da9d7241-a51e-4d47-9526-b04ce2959874",
   "metadata": {},
   "outputs": [
    {
     "name": "stdout",
     "output_type": "stream",
     "text": [
      "Index(['customerID', 'gender', 'SeniorCitizen', 'Partner', 'Dependents',\n",
      "       'tenure', 'PhoneService', 'MultipleLines', 'InternetService',\n",
      "       'OnlineSecurity', 'OnlineBackup', 'DeviceProtection', 'TechSupport',\n",
      "       'StreamingTV', 'StreamingMovies', 'Contract', 'PaperlessBilling',\n",
      "       'PaymentMethod', 'MonthlyCharges', 'TotalCharges', 'Churn',\n",
      "       'TenureGroup'],\n",
      "      dtype='object')\n",
      "One or more specified columns are not in the DataFrame.\n"
     ]
    }
   ],
   "source": [
    "# Check the columns in the DataFrame to ensure 'Gender', 'InternetService', and 'Contract' exist\n",
    "print(data.columns)\n",
    "\n",
    "# Data Encoding\n",
    "# 4. Data Encoding: Convert categorical columns to numerical using One-Hot Encoding\n",
    "# Ensure the specified columns exist in the DataFrame\n",
    "if 'Gender' in data.columns and 'InternetService' in data.columns and 'Contract' in data.columns:\n",
    "    data = pd.get_dummies(data, columns=['Gender', 'InternetService', 'Contract'])\n",
    "else:\n",
    "    print(\"One or more specified columns are not in the DataFrame.\")"
   ]
  },
  {
   "cell_type": "code",
   "execution_count": 55,
   "id": "2a3e7c86-03af-4d3c-8a20-cbfa433f937f",
   "metadata": {},
   "outputs": [],
   "source": [
    "scaler = StandardScaler()\n",
    "data['MonthlyCharges_scaled'] = scaler.fit_transform(data[['MonthlyCharges']])\n"
   ]
  },
  {
   "cell_type": "code",
   "execution_count": 56,
   "id": "a446dfb6-3d17-4be9-81ce-ba1290645e0c",
   "metadata": {},
   "outputs": [],
   "source": [
    "# 6. Remove Outliers: Detect and remove outliers based on IQR for 'MonthlyCharges'\n",
    "Q1 = data['MonthlyCharges'].quantile(0.25)\n",
    "Q3 = data['MonthlyCharges'].quantile(0.75)\n",
    "IQR = Q3 - Q1\n",
    "lower_bound = Q1 - 1.5 * IQR\n",
    "upper_bound = Q3 + 1.5 * IQR"
   ]
  },
  {
   "cell_type": "code",
   "execution_count": 57,
   "id": "80df9d31-35d8-4c52-8249-23015a282505",
   "metadata": {},
   "outputs": [],
   "source": [
    "# Remove rows where 'MonthlyCharges' is outside the defined range\n",
    "data = data[(data['MonthlyCharges'] >= lower_bound) & (data['MonthlyCharges'] <= upper_bound)]\n"
   ]
  },
  {
   "cell_type": "code",
   "execution_count": 58,
   "id": "193ad0f8-5ad9-4fd6-9625-3550317f4cd6",
   "metadata": {},
   "outputs": [
    {
     "name": "stdout",
     "output_type": "stream",
     "text": [
      "\n",
      "Data processed and saved locally as 'processed_data.csv'.\n"
     ]
    }
   ],
   "source": [
    "# Save the processed data locally for review\n",
    "data.to_csv(\"processed_data.csv\", index=False)\n",
    "print(\"\\nData processed and saved locally as 'processed_data.csv'.\")"
   ]
  },
  {
   "cell_type": "code",
   "execution_count": 59,
   "id": "7db8d9e5",
   "metadata": {},
   "outputs": [
    {
     "name": "stdout",
     "output_type": "stream",
     "text": [
      "<class 'pandas.core.frame.DataFrame'>\n",
      "RangeIndex: 7043 entries, 0 to 7042\n",
      "Data columns (total 23 columns):\n",
      " #   Column                 Non-Null Count  Dtype  \n",
      "---  ------                 --------------  -----  \n",
      " 0   customerID             7043 non-null   object \n",
      " 1   gender                 7043 non-null   object \n",
      " 2   SeniorCitizen          7043 non-null   int64  \n",
      " 3   Partner                7043 non-null   object \n",
      " 4   Dependents             7043 non-null   object \n",
      " 5   tenure                 7043 non-null   int64  \n",
      " 6   PhoneService           7043 non-null   object \n",
      " 7   MultipleLines          7043 non-null   object \n",
      " 8   InternetService        7043 non-null   object \n",
      " 9   OnlineSecurity         7043 non-null   object \n",
      " 10  OnlineBackup           7043 non-null   object \n",
      " 11  DeviceProtection       7043 non-null   object \n",
      " 12  TechSupport            7043 non-null   object \n",
      " 13  StreamingTV            7043 non-null   object \n",
      " 14  StreamingMovies        7043 non-null   object \n",
      " 15  Contract               7043 non-null   object \n",
      " 16  PaperlessBilling       7043 non-null   object \n",
      " 17  PaymentMethod          7043 non-null   object \n",
      " 18  MonthlyCharges         7043 non-null   float64\n",
      " 19  TotalCharges           7043 non-null   float64\n",
      " 20  Churn                  7043 non-null   object \n",
      " 21  TenureGroup            7043 non-null   object \n",
      " 22  MonthlyCharges_scaled  7043 non-null   float64\n",
      "dtypes: float64(3), int64(2), object(18)\n",
      "memory usage: 1.2+ MB\n",
      "None\n"
     ]
    }
   ],
   "source": [
    "data = pd.read_csv(\"processed_data.csv\")\n",
    "print(data.info())"
   ]
  },
  {
   "cell_type": "code",
   "execution_count": 60,
   "id": "1d7e39a8",
   "metadata": {},
   "outputs": [
    {
     "name": "stdout",
     "output_type": "stream",
     "text": [
      "       SeniorCitizen       tenure  MonthlyCharges  TotalCharges  \\\n",
      "count    7043.000000  7043.000000     7043.000000   7043.000000   \n",
      "mean        0.162147    32.371149       64.761692   2279.581350   \n",
      "std         0.368612    24.559481       30.090047   2264.729447   \n",
      "min         0.000000     0.000000       18.250000      0.000000   \n",
      "25%         0.000000     9.000000       35.500000    394.000000   \n",
      "50%         0.000000    29.000000       70.350000   1393.600000   \n",
      "75%         0.000000    55.000000       89.850000   3786.100000   \n",
      "max         1.000000    72.000000      118.750000   8550.000000   \n",
      "\n",
      "       MonthlyCharges_scaled  \n",
      "count           7.043000e+03  \n",
      "mean           -6.204512e-17  \n",
      "std             1.000071e+00  \n",
      "min            -1.545860e+00  \n",
      "25%            -9.725399e-01  \n",
      "50%             1.857327e-01  \n",
      "75%             8.338335e-01  \n",
      "max             1.794352e+00  \n"
     ]
    }
   ],
   "source": [
    "print(data.describe())"
   ]
  },
  {
   "cell_type": "code",
   "execution_count": 61,
   "id": "46f8a449",
   "metadata": {},
   "outputs": [
    {
     "name": "stdout",
     "output_type": "stream",
     "text": [
      "customerID               0\n",
      "gender                   0\n",
      "SeniorCitizen            0\n",
      "Partner                  0\n",
      "Dependents               0\n",
      "tenure                   0\n",
      "PhoneService             0\n",
      "MultipleLines            0\n",
      "InternetService          0\n",
      "OnlineSecurity           0\n",
      "OnlineBackup             0\n",
      "DeviceProtection         0\n",
      "TechSupport              0\n",
      "StreamingTV              0\n",
      "StreamingMovies          0\n",
      "Contract                 0\n",
      "PaperlessBilling         0\n",
      "PaymentMethod            0\n",
      "MonthlyCharges           0\n",
      "TotalCharges             0\n",
      "Churn                    0\n",
      "TenureGroup              0\n",
      "MonthlyCharges_scaled    0\n",
      "dtype: int64\n"
     ]
    }
   ],
   "source": [
    "# Count missing values\n",
    "print(data.isnull().sum())"
   ]
  }
 ],
 "metadata": {
  "kernelspec": {
   "display_name": "venv",
   "language": "python",
   "name": "python3"
  },
  "language_info": {
   "codemirror_mode": {
    "name": "ipython",
    "version": 3
   },
   "file_extension": ".py",
   "mimetype": "text/x-python",
   "name": "python",
   "nbconvert_exporter": "python",
   "pygments_lexer": "ipython3",
   "version": "3.12.4"
  }
 },
 "nbformat": 4,
 "nbformat_minor": 5
}
